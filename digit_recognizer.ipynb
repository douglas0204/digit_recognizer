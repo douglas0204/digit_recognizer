{
 "cells": [
  {
   "cell_type": "code",
   "execution_count": 1,
   "metadata": {},
   "outputs": [],
   "source": [
    "import numpy as np\n",
    "import pandas as pd\n",
    "import matplotlib.pyplot as plt\n",
    "from tensorflow.keras.utils import to_categorical \n",
    "import time"
   ]
  },
  {
   "cell_type": "code",
   "execution_count": 2,
   "metadata": {},
   "outputs": [],
   "source": [
    "# loading training & test data from current directory\n",
    "train = pd.read_csv('train.csv')\n",
    "test = pd.read_csv('test.csv')"
   ]
  },
  {
   "cell_type": "code",
   "execution_count": 3,
   "metadata": {},
   "outputs": [
    {
     "data": {
      "text/plain": [
       "(42000, 785)"
      ]
     },
     "execution_count": 3,
     "metadata": {},
     "output_type": "execute_result"
    }
   ],
   "source": [
    "train.shape"
   ]
  },
  {
   "cell_type": "code",
   "execution_count": 4,
   "metadata": {},
   "outputs": [
    {
     "data": {
      "text/plain": [
       "(28000, 784)"
      ]
     },
     "execution_count": 4,
     "metadata": {},
     "output_type": "execute_result"
    }
   ],
   "source": [
    "test.shape"
   ]
  },
  {
   "cell_type": "code",
   "execution_count": 5,
   "metadata": {},
   "outputs": [],
   "source": [
    "y = train['label']"
   ]
  },
  {
   "cell_type": "code",
   "execution_count": 6,
   "metadata": {},
   "outputs": [],
   "source": [
    "y = to_categorical(y, num_classes=10)"
   ]
  },
  {
   "cell_type": "code",
   "execution_count": 7,
   "metadata": {},
   "outputs": [
    {
     "data": {
      "text/plain": [
       "(42000, 10)"
      ]
     },
     "execution_count": 7,
     "metadata": {},
     "output_type": "execute_result"
    }
   ],
   "source": [
    "y.shape"
   ]
  },
  {
   "cell_type": "code",
   "execution_count": 8,
   "metadata": {},
   "outputs": [],
   "source": [
    "train = train.iloc[:, 1:].values.reshape(-1, 28, 28, 1)"
   ]
  },
  {
   "cell_type": "code",
   "execution_count": 9,
   "metadata": {},
   "outputs": [
    {
     "data": {
      "text/plain": [
       "(42000, 28, 28, 1)"
      ]
     },
     "execution_count": 9,
     "metadata": {},
     "output_type": "execute_result"
    }
   ],
   "source": [
    "train.shape"
   ]
  },
  {
   "cell_type": "code",
   "execution_count": 10,
   "metadata": {},
   "outputs": [],
   "source": [
    "test = test.iloc[:,:].values.reshape(-1,28,28,1)"
   ]
  },
  {
   "cell_type": "code",
   "execution_count": 11,
   "metadata": {},
   "outputs": [
    {
     "data": {
      "text/plain": [
       "(28000, 28, 28, 1)"
      ]
     },
     "execution_count": 11,
     "metadata": {},
     "output_type": "execute_result"
    }
   ],
   "source": [
    "test.shape"
   ]
  },
  {
   "cell_type": "code",
   "execution_count": 12,
   "metadata": {},
   "outputs": [
    {
     "data": {
      "image/png": "[encoded data removed]",
      "text/plain": [
       "<Figure size 432x288 with 9 Axes>"
      ]
     },
     "metadata": {
      "needs_background": "light"
     },
     "output_type": "display_data"
    }
   ],
   "source": [
    "for i in range(9):\n",
    "    plt.subplot(3, 3, 1+i)\n",
    "    plt.imshow(train[i], cmap=plt.get_cmap('gray'))"
   ]
  },
  {
   "cell_type": "code",
   "execution_count": null,
   "metadata": {},
   "outputs": [],
   "source": []
  },
  {
   "cell_type": "code",
   "execution_count": 13,
   "metadata": {},
   "outputs": [],
   "source": [
    "# rescale training & test data value in between 0 and 1\n",
    "train = train.reshape((train.shape[0], 28*28)).astype('float64') / 255"
   ]
  },
  {
   "cell_type": "code",
   "execution_count": 14,
   "metadata": {},
   "outputs": [
    {
     "data": {
      "text/plain": [
       "(42000, 784)"
      ]
     },
     "execution_count": 14,
     "metadata": {},
     "output_type": "execute_result"
    }
   ],
   "source": [
    "train.shape"
   ]
  },
  {
   "cell_type": "code",
   "execution_count": 15,
   "metadata": {},
   "outputs": [],
   "source": [
    "test = test.reshape((test.shape[0], 28*28)).astype('float64') / 255"
   ]
  },
  {
   "cell_type": "code",
   "execution_count": 16,
   "metadata": {},
   "outputs": [
    {
     "data": {
      "text/plain": [
       "(28000, 784)"
      ]
     },
     "execution_count": 16,
     "metadata": {},
     "output_type": "execute_result"
    }
   ],
   "source": [
    "test.shape"
   ]
  },
  {
   "cell_type": "code",
   "execution_count": null,
   "metadata": {},
   "outputs": [],
   "source": []
  },
  {
   "cell_type": "code",
   "execution_count": 17,
   "metadata": {},
   "outputs": [],
   "source": [
    "# split training data\n",
    "from sklearn.model_selection import train_test_split\n",
    "x_train, x_val, y_train, y_val = train_test_split(train, y, test_size=0.1, random_state=42)"
   ]
  },
  {
   "cell_type": "code",
   "execution_count": null,
   "metadata": {},
   "outputs": [],
   "source": []
  },
  {
   "cell_type": "code",
   "execution_count": 18,
   "metadata": {},
   "outputs": [],
   "source": [
    "# build model\n",
    "from tensorflow.keras import Sequential\n",
    "from keras.layers import Dense, BatchNormalization, Dropout\n",
    "import tensorflow as tf"
   ]
  },
  {
   "cell_type": "code",
   "execution_count": 19,
   "metadata": {},
   "outputs": [],
   "source": [
    "model = Sequential()\n",
    "model.add(Dense(256, input_dim=784, activation='relu'))\n",
    "model.add(BatchNormalization())\n",
    "model.add(Dropout(0.2))\n",
    "model.add(Dense(64, activation='relu'))\n",
    "model.add(BatchNormalization())\n",
    "model.add(Dropout(0.2))\n",
    "model.add(Dense(10, activation='softmax'))"
   ]
  },
  {
   "cell_type": "code",
   "execution_count": 20,
   "metadata": {},
   "outputs": [
    {
     "name": "stdout",
     "output_type": "stream",
     "text": [
      "Model: \"sequential\"\n",
      "_________________________________________________________________\n",
      " Layer (type)                Output Shape              Param #   \n",
      "=================================================================\n",
      " dense (Dense)               (None, 256)               200960    \n",
      "                                                                 \n",
      " batch_normalization (BatchN  (None, 256)              1024      \n",
      " ormalization)                                                   \n",
      "                                                                 \n",
      " dropout (Dropout)           (None, 256)               0         \n",
      "                                                                 \n",
      " dense_1 (Dense)             (None, 64)                16448     \n",
      "                                                                 \n",
      " batch_normalization_1 (Batc  (None, 64)               256       \n",
      " hNormalization)                                                 \n",
      "                                                                 \n",
      " dropout_1 (Dropout)         (None, 64)                0         \n",
      "                                                                 \n",
      " dense_2 (Dense)             (None, 10)                650       \n",
      "                                                                 \n",
      "=================================================================\n",
      "Total params: 219,338\n",
      "Trainable params: 218,698\n",
      "Non-trainable params: 640\n",
      "_________________________________________________________________\n"
     ]
    }
   ],
   "source": [
    "model.summary()"
   ]
  },
  {
   "cell_type": "code",
   "execution_count": null,
   "metadata": {},
   "outputs": [],
   "source": []
  },
  {
   "cell_type": "code",
   "execution_count": 21,
   "metadata": {},
   "outputs": [],
   "source": [
    "# training\n",
    "optimizer = tf.keras.optimizers.Adam(0.001)"
   ]
  },
  {
   "cell_type": "code",
   "execution_count": 22,
   "metadata": {},
   "outputs": [],
   "source": [
    "model.compile(loss='categorical_crossentropy', optimizer=optimizer, metrics=['accuracy'])"
   ]
  },
  {
   "cell_type": "code",
   "execution_count": 23,
   "metadata": {},
   "outputs": [
    {
     "data": {
      "text/plain": [
       "<tf.Variable 'learning_rate:0' shape=() dtype=float32, numpy=0.001>"
      ]
     },
     "execution_count": 23,
     "metadata": {},
     "output_type": "execute_result"
    }
   ],
   "source": [
    "optimizer.learning_rate"
   ]
  },
  {
   "cell_type": "code",
   "execution_count": 24,
   "metadata": {
    "scrolled": false
   },
   "outputs": [
    {
     "name": "stdout",
     "output_type": "stream",
     "text": [
      "Epoch 1/40\n",
      "591/591 [==============================] - 5s 6ms/step - loss: 0.3380 - accuracy: 0.8984 - val_loss: 0.1595 - val_accuracy: 0.9495\n",
      "Epoch 2/40\n",
      "591/591 [==============================] - 3s 5ms/step - loss: 0.1631 - accuracy: 0.9516 - val_loss: 0.1243 - val_accuracy: 0.9633\n",
      "Epoch 3/40\n",
      "591/591 [==============================] - 3s 5ms/step - loss: 0.1245 - accuracy: 0.9616 - val_loss: 0.1090 - val_accuracy: 0.9679\n",
      "Epoch 4/40\n",
      "591/591 [==============================] - 3s 6ms/step - loss: 0.1019 - accuracy: 0.9683 - val_loss: 0.0965 - val_accuracy: 0.9714\n",
      "Epoch 5/40\n",
      "591/591 [==============================] - 3s 5ms/step - loss: 0.0891 - accuracy: 0.9713 - val_loss: 0.0947 - val_accuracy: 0.9690\n",
      "Epoch 6/40\n",
      "591/591 [==============================] - 3s 5ms/step - loss: 0.0818 - accuracy: 0.9734 - val_loss: 0.0826 - val_accuracy: 0.9733\n",
      "Epoch 7/40\n",
      "591/591 [==============================] - 3s 5ms/step - loss: 0.0733 - accuracy: 0.9769 - val_loss: 0.0821 - val_accuracy: 0.9740\n",
      "Epoch 8/40\n",
      "591/591 [==============================] - 3s 5ms/step - loss: 0.0677 - accuracy: 0.9784 - val_loss: 0.0778 - val_accuracy: 0.9745\n",
      "Epoch 9/40\n",
      "591/591 [==============================] - 3s 5ms/step - loss: 0.0573 - accuracy: 0.9810 - val_loss: 0.0831 - val_accuracy: 0.9714\n",
      "Epoch 10/40\n",
      "591/591 [==============================] - 3s 5ms/step - loss: 0.0570 - accuracy: 0.9805 - val_loss: 0.0755 - val_accuracy: 0.9764\n",
      "Epoch 11/40\n",
      "591/591 [==============================] - 3s 5ms/step - loss: 0.0552 - accuracy: 0.9816 - val_loss: 0.0852 - val_accuracy: 0.9755\n",
      "Epoch 12/40\n",
      "591/591 [==============================] - 3s 5ms/step - loss: 0.0534 - accuracy: 0.9829 - val_loss: 0.0799 - val_accuracy: 0.9793\n",
      "Epoch 13/40\n",
      "591/591 [==============================] - 3s 5ms/step - loss: 0.0464 - accuracy: 0.9848 - val_loss: 0.0828 - val_accuracy: 0.9740\n",
      "Epoch 14/40\n",
      "591/591 [==============================] - 3s 5ms/step - loss: 0.0487 - accuracy: 0.9840 - val_loss: 0.0862 - val_accuracy: 0.9762\n",
      "Epoch 15/40\n",
      "591/591 [==============================] - 3s 5ms/step - loss: 0.0419 - accuracy: 0.9861 - val_loss: 0.0777 - val_accuracy: 0.9786\n",
      "Epoch 16/40\n",
      "591/591 [==============================] - 3s 5ms/step - loss: 0.0413 - accuracy: 0.9865 - val_loss: 0.0772 - val_accuracy: 0.9783\n",
      "Epoch 17/40\n",
      "591/591 [==============================] - 3s 5ms/step - loss: 0.0384 - accuracy: 0.9872 - val_loss: 0.0856 - val_accuracy: 0.9762\n",
      "Epoch 18/40\n",
      "591/591 [==============================] - 3s 5ms/step - loss: 0.0394 - accuracy: 0.9870 - val_loss: 0.0793 - val_accuracy: 0.9774\n",
      "Epoch 19/40\n",
      "591/591 [==============================] - 3s 5ms/step - loss: 0.0339 - accuracy: 0.9888 - val_loss: 0.0834 - val_accuracy: 0.9781\n",
      "Epoch 20/40\n",
      "591/591 [==============================] - 3s 5ms/step - loss: 0.0338 - accuracy: 0.9885 - val_loss: 0.0823 - val_accuracy: 0.9757\n",
      "Epoch 21/40\n",
      "591/591 [==============================] - 3s 5ms/step - loss: 0.0313 - accuracy: 0.9894 - val_loss: 0.0843 - val_accuracy: 0.9748\n",
      "Epoch 22/40\n",
      "591/591 [==============================] - 3s 5ms/step - loss: 0.0334 - accuracy: 0.9890 - val_loss: 0.0807 - val_accuracy: 0.9798\n",
      "Epoch 23/40\n",
      "591/591 [==============================] - 3s 5ms/step - loss: 0.0283 - accuracy: 0.9902 - val_loss: 0.0783 - val_accuracy: 0.9788\n",
      "Epoch 24/40\n",
      "591/591 [==============================] - 3s 5ms/step - loss: 0.0294 - accuracy: 0.9901 - val_loss: 0.0765 - val_accuracy: 0.9788\n",
      "Epoch 25/40\n",
      "591/591 [==============================] - 3s 5ms/step - loss: 0.0305 - accuracy: 0.9895 - val_loss: 0.0907 - val_accuracy: 0.9783\n",
      "Epoch 26/40\n",
      "591/591 [==============================] - 4s 7ms/step - loss: 0.0270 - accuracy: 0.9904 - val_loss: 0.0767 - val_accuracy: 0.9783\n",
      "Epoch 27/40\n",
      "591/591 [==============================] - 3s 5ms/step - loss: 0.0273 - accuracy: 0.9905 - val_loss: 0.0828 - val_accuracy: 0.9767\n",
      "Epoch 28/40\n",
      "591/591 [==============================] - 3s 5ms/step - loss: 0.0268 - accuracy: 0.9906 - val_loss: 0.0743 - val_accuracy: 0.9783\n",
      "Epoch 29/40\n",
      "591/591 [==============================] - 3s 5ms/step - loss: 0.0239 - accuracy: 0.9917 - val_loss: 0.0771 - val_accuracy: 0.9805\n",
      "Epoch 30/40\n",
      "591/591 [==============================] - 6s 10ms/step - loss: 0.0239 - accuracy: 0.9922 - val_loss: 0.0843 - val_accuracy: 0.9790\n",
      "Epoch 31/40\n",
      "591/591 [==============================] - 3s 5ms/step - loss: 0.0229 - accuracy: 0.9922 - val_loss: 0.0836 - val_accuracy: 0.9783\n",
      "Epoch 32/40\n",
      "591/591 [==============================] - 3s 5ms/step - loss: 0.0233 - accuracy: 0.9916 - val_loss: 0.0805 - val_accuracy: 0.9810\n",
      "Epoch 33/40\n",
      "591/591 [==============================] - 3s 5ms/step - loss: 0.0194 - accuracy: 0.9934 - val_loss: 0.0817 - val_accuracy: 0.9810\n",
      "Epoch 34/40\n",
      "591/591 [==============================] - 4s 7ms/step - loss: 0.0233 - accuracy: 0.9919 - val_loss: 0.0829 - val_accuracy: 0.9800\n",
      "Epoch 35/40\n",
      "591/591 [==============================] - 4s 6ms/step - loss: 0.0218 - accuracy: 0.9929 - val_loss: 0.0796 - val_accuracy: 0.9814\n",
      "Epoch 36/40\n",
      "591/591 [==============================] - 4s 6ms/step - loss: 0.0201 - accuracy: 0.9933 - val_loss: 0.0803 - val_accuracy: 0.9810\n",
      "Epoch 37/40\n",
      "591/591 [==============================] - 4s 6ms/step - loss: 0.0218 - accuracy: 0.9925 - val_loss: 0.0928 - val_accuracy: 0.9795\n",
      "Epoch 38/40\n",
      "591/591 [==============================] - 4s 6ms/step - loss: 0.0183 - accuracy: 0.9936 - val_loss: 0.0819 - val_accuracy: 0.9807\n",
      "Epoch 39/40\n",
      "591/591 [==============================] - 3s 6ms/step - loss: 0.0184 - accuracy: 0.9934 - val_loss: 0.0952 - val_accuracy: 0.9774\n",
      "Epoch 40/40\n",
      "591/591 [==============================] - 4s 6ms/step - loss: 0.0199 - accuracy: 0.9932 - val_loss: 0.0864 - val_accuracy: 0.9795\n",
      "Algorithm time is 127 s:\n"
     ]
    }
   ],
   "source": [
    "start = time.time()\n",
    "history = model.fit(x_train, y_train, epochs=40, batch_size=64, validation_data = (x_val, y_val))\n",
    "end = time.time()\n",
    "print(\"Algorithm time is {} s:\".format(round(end - start)))"
   ]
  },
  {
   "cell_type": "code",
   "execution_count": null,
   "metadata": {},
   "outputs": [],
   "source": []
  },
  {
   "cell_type": "code",
   "execution_count": 25,
   "metadata": {},
   "outputs": [],
   "source": [
    "import matplotlib.pyplot as plt\n",
    "plt.rcParams[\"figure.figsize\"] = (10, 10)"
   ]
  },
  {
   "cell_type": "code",
   "execution_count": 26,
   "metadata": {},
   "outputs": [
    {
     "data": {
      "text/plain": [
       "<matplotlib.legend.Legend at 0x2760f883820>"
      ]
     },
     "execution_count": 26,
     "metadata": {},
     "output_type": "execute_result"
    },
    {
     "data": {
      "image/png": "[encoded data removed]",
      "text/plain": [
       "<Figure size 720x720 with 2 Axes>"
      ]
     },
     "metadata": {
      "needs_background": "light"
     },
     "output_type": "display_data"
    }
   ],
   "source": [
    "fig, ax = plt.subplots(2,1)\n",
    "ax[0].plot(history.history['loss'], color='b', label='Training loss')\n",
    "ax[0].plot(history.history['val_loss'], color='r', label='validation loss', axes=ax[0])\n",
    "ax[0].legend(loc='best', shadow=True)\n",
    "\n",
    "ax[1].plot(history.history['accuracy'], color='b', label='Training accuracy')\n",
    "ax[1].plot(history.history['val_accuracy'], color='r', label='Validation accuracy')\n",
    "ax[1].legend(loc='best', shadow=True)"
   ]
  },
  {
   "cell_type": "code",
   "execution_count": null,
   "metadata": {},
   "outputs": [],
   "source": []
  },
  {
   "cell_type": "code",
   "execution_count": 27,
   "metadata": {},
   "outputs": [],
   "source": [
    "# prediction of test data\n",
    "predictions = model.predict(test)\n",
    "predictions = np.argmax(predictions, axis=1)"
   ]
  },
  {
   "cell_type": "code",
   "execution_count": null,
   "metadata": {},
   "outputs": [],
   "source": []
  },
  {
   "cell_type": "code",
   "execution_count": 28,
   "metadata": {},
   "outputs": [],
   "source": [
    "# load more data\n",
    "from keras.datasets import mnist\n",
    "from keras.utils.np_utils import to_categorical\n",
    "(x_train_1, y_train_1), (x_val_1, y_val_1) = mnist.load_data()"
   ]
  },
  {
   "cell_type": "code",
   "execution_count": 29,
   "metadata": {},
   "outputs": [
    {
     "name": "stdout",
     "output_type": "stream",
     "text": [
      "Train: X=(60000, 28, 28), y=(60000,)\n",
      "Test: X=(10000, 28, 28), y=(10000,)\n"
     ]
    }
   ],
   "source": [
    "print('Train: X=%s, y=%s' %(x_train_1.shape, y_train_1.shape))\n",
    "print('Test: X=%s, y=%s' %(x_val_1.shape, y_val_1.shape))"
   ]
  },
  {
   "cell_type": "code",
   "execution_count": 30,
   "metadata": {},
   "outputs": [],
   "source": [
    "x_train_1 = x_train_1.reshape((x_train_1.shape[0], 28*28)).astype('float64') / 255"
   ]
  },
  {
   "cell_type": "code",
   "execution_count": 31,
   "metadata": {},
   "outputs": [],
   "source": [
    "x_val_1 = x_val_1.reshape((x_val_1.shape[0], 28*28)).astype('float64') / 255"
   ]
  },
  {
   "cell_type": "code",
   "execution_count": 32,
   "metadata": {},
   "outputs": [],
   "source": [
    "y_train_1 = to_categorical(y_train_1)"
   ]
  },
  {
   "cell_type": "code",
   "execution_count": 33,
   "metadata": {},
   "outputs": [],
   "source": [
    "y_val_1 = to_categorical(y_val_1)"
   ]
  },
  {
   "cell_type": "code",
   "execution_count": 34,
   "metadata": {},
   "outputs": [],
   "source": [
    "# x_train, x_val_1, y_train, y_val_1 = train_test_split(train, y, test_size=0.8, random_state=42)\n",
    "import numpy as np\n",
    "new_x_train = np.concatenate((x_train_1, x_val_1), axis=0)\n",
    "new_y_train = np.concatenate((y_train_1, y_val_1), axis=0)"
   ]
  },
  {
   "cell_type": "code",
   "execution_count": 35,
   "metadata": {
    "scrolled": true
   },
   "outputs": [
    {
     "data": {
      "text/plain": [
       "(70000, 784)"
      ]
     },
     "execution_count": 35,
     "metadata": {},
     "output_type": "execute_result"
    }
   ],
   "source": [
    "new_x_train.shape"
   ]
  },
  {
   "cell_type": "code",
   "execution_count": 36,
   "metadata": {},
   "outputs": [
    {
     "data": {
      "text/plain": [
       "(70000, 10)"
      ]
     },
     "execution_count": 36,
     "metadata": {},
     "output_type": "execute_result"
    }
   ],
   "source": [
    "new_y_train.shape"
   ]
  },
  {
   "cell_type": "code",
   "execution_count": 37,
   "metadata": {},
   "outputs": [],
   "source": [
    "optimizer = tf.keras.optimizers.Adam(0.0005)\n",
    "model.compile(loss='categorical_crossentropy', optimizer=optimizer, metrics=['accuracy'])"
   ]
  },
  {
   "cell_type": "code",
   "execution_count": 39,
   "metadata": {},
   "outputs": [
    {
     "data": {
      "text/plain": [
       "<tf.Variable 'learning_rate:0' shape=() dtype=float32, numpy=0.0005>"
      ]
     },
     "execution_count": 39,
     "metadata": {},
     "output_type": "execute_result"
    }
   ],
   "source": [
    "optimizer.learning_rate"
   ]
  },
  {
   "cell_type": "code",
   "execution_count": 40,
   "metadata": {},
   "outputs": [
    {
     "name": "stdout",
     "output_type": "stream",
     "text": [
      "Epoch 1/60\n",
      "1094/1094 [==============================] - 13s 10ms/step - loss: 0.0623 - accuracy: 0.9845 - val_loss: 0.0053 - val_accuracy: 0.9988\n",
      "Epoch 2/60\n",
      "1094/1094 [==============================] - 7s 6ms/step - loss: 0.0450 - accuracy: 0.9868 - val_loss: 0.0043 - val_accuracy: 0.9989\n",
      "Epoch 3/60\n",
      "1094/1094 [==============================] - 6s 6ms/step - loss: 0.0402 - accuracy: 0.9881 - val_loss: 0.0041 - val_accuracy: 0.9990\n",
      "Epoch 4/60\n",
      "1094/1094 [==============================] - 6s 6ms/step - loss: 0.0336 - accuracy: 0.9900 - val_loss: 0.0034 - val_accuracy: 0.9992\n",
      "Epoch 5/60\n",
      "1094/1094 [==============================] - 6s 6ms/step - loss: 0.0299 - accuracy: 0.9905 - val_loss: 0.0029 - val_accuracy: 0.9993\n",
      "Epoch 6/60\n",
      "1094/1094 [==============================] - 7s 6ms/step - loss: 0.0291 - accuracy: 0.9912 - val_loss: 0.0026 - val_accuracy: 0.9994\n",
      "Epoch 7/60\n",
      "1094/1094 [==============================] - 7s 6ms/step - loss: 0.0254 - accuracy: 0.9921 - val_loss: 0.0022 - val_accuracy: 0.9996\n",
      "Epoch 8/60\n",
      "1094/1094 [==============================] - 7s 6ms/step - loss: 0.0257 - accuracy: 0.9919 - val_loss: 0.0020 - val_accuracy: 0.9996\n",
      "Epoch 9/60\n",
      "1094/1094 [==============================] - 6s 6ms/step - loss: 0.0222 - accuracy: 0.9930 - val_loss: 0.0016 - val_accuracy: 0.9997\n",
      "Epoch 10/60\n",
      "1094/1094 [==============================] - 6s 6ms/step - loss: 0.0227 - accuracy: 0.9926 - val_loss: 0.0018 - val_accuracy: 0.9996\n",
      "Epoch 11/60\n",
      "1094/1094 [==============================] - 6s 6ms/step - loss: 0.0214 - accuracy: 0.9930 - val_loss: 0.0017 - val_accuracy: 0.9996\n",
      "Epoch 12/60\n",
      "1094/1094 [==============================] - 6s 6ms/step - loss: 0.0195 - accuracy: 0.9936 - val_loss: 0.0016 - val_accuracy: 0.9997\n",
      "Epoch 13/60\n",
      "1094/1094 [==============================] - 7s 6ms/step - loss: 0.0196 - accuracy: 0.9938 - val_loss: 0.0014 - val_accuracy: 0.9996\n",
      "Epoch 14/60\n",
      "1094/1094 [==============================] - 6s 6ms/step - loss: 0.0178 - accuracy: 0.9940 - val_loss: 0.0018 - val_accuracy: 0.9996\n",
      "Epoch 15/60\n",
      "1094/1094 [==============================] - 6s 6ms/step - loss: 0.0187 - accuracy: 0.9939 - val_loss: 0.0013 - val_accuracy: 0.9997\n",
      "Epoch 16/60\n",
      "1094/1094 [==============================] - 6s 6ms/step - loss: 0.0170 - accuracy: 0.9945 - val_loss: 0.0011 - val_accuracy: 0.9998\n",
      "Epoch 17/60\n",
      "1094/1094 [==============================] - 6s 6ms/step - loss: 0.0169 - accuracy: 0.9942 - val_loss: 9.7639e-04 - val_accuracy: 0.9998\n",
      "Epoch 18/60\n",
      "1094/1094 [==============================] - 6s 6ms/step - loss: 0.0170 - accuracy: 0.9946 - val_loss: 0.0010 - val_accuracy: 0.9999\n",
      "Epoch 19/60\n",
      "1094/1094 [==============================] - 6s 6ms/step - loss: 0.0169 - accuracy: 0.9942 - val_loss: 8.4236e-04 - val_accuracy: 0.9999\n",
      "Epoch 20/60\n",
      "1094/1094 [==============================] - 6s 6ms/step - loss: 0.0162 - accuracy: 0.9946 - val_loss: 0.0011 - val_accuracy: 0.9998\n",
      "Epoch 21/60\n",
      "1094/1094 [==============================] - 7s 6ms/step - loss: 0.0155 - accuracy: 0.9948 - val_loss: 8.6315e-04 - val_accuracy: 0.9998\n",
      "Epoch 22/60\n",
      "1094/1094 [==============================] - 7s 6ms/step - loss: 0.0151 - accuracy: 0.9949 - val_loss: 9.0399e-04 - val_accuracy: 0.9998\n",
      "Epoch 23/60\n",
      "1094/1094 [==============================] - 7s 7ms/step - loss: 0.0144 - accuracy: 0.9948 - val_loss: 7.9495e-04 - val_accuracy: 0.9998\n",
      "Epoch 24/60\n",
      "1094/1094 [==============================] - 7s 6ms/step - loss: 0.0134 - accuracy: 0.9957 - val_loss: 8.2101e-04 - val_accuracy: 0.9998\n",
      "Epoch 25/60\n",
      "1094/1094 [==============================] - 7s 6ms/step - loss: 0.0153 - accuracy: 0.9948 - val_loss: 9.6497e-04 - val_accuracy: 0.9997\n",
      "Epoch 26/60\n",
      "1094/1094 [==============================] - 7s 6ms/step - loss: 0.0132 - accuracy: 0.9958 - val_loss: 5.3631e-04 - val_accuracy: 1.0000\n",
      "Epoch 27/60\n",
      "1094/1094 [==============================] - 7s 7ms/step - loss: 0.0130 - accuracy: 0.9956 - val_loss: 5.1680e-04 - val_accuracy: 1.0000\n",
      "Epoch 28/60\n",
      "1094/1094 [==============================] - 7s 6ms/step - loss: 0.0137 - accuracy: 0.9957 - val_loss: 7.5204e-04 - val_accuracy: 0.9998\n",
      "Epoch 29/60\n",
      "1094/1094 [==============================] - 7s 6ms/step - loss: 0.0142 - accuracy: 0.9953 - val_loss: 5.8230e-04 - val_accuracy: 0.9999\n",
      "Epoch 30/60\n",
      "1094/1094 [==============================] - 8s 7ms/step - loss: 0.0125 - accuracy: 0.9957 - val_loss: 4.0610e-04 - val_accuracy: 0.9999\n",
      "Epoch 31/60\n",
      "1094/1094 [==============================] - 8s 7ms/step - loss: 0.0122 - accuracy: 0.9955 - val_loss: 4.8336e-04 - val_accuracy: 0.9999\n",
      "Epoch 32/60\n",
      "1094/1094 [==============================] - 7s 7ms/step - loss: 0.0128 - accuracy: 0.9954 - val_loss: 4.3514e-04 - val_accuracy: 0.9999\n",
      "Epoch 33/60\n",
      "1094/1094 [==============================] - 7s 7ms/step - loss: 0.0121 - accuracy: 0.9959 - val_loss: 4.8796e-04 - val_accuracy: 0.9999\n",
      "Epoch 34/60\n",
      "1094/1094 [==============================] - 9s 8ms/step - loss: 0.0133 - accuracy: 0.9954 - val_loss: 6.0491e-04 - val_accuracy: 0.9998\n",
      "Epoch 35/60\n",
      "1094/1094 [==============================] - 8s 7ms/step - loss: 0.0125 - accuracy: 0.9958 - val_loss: 3.8461e-04 - val_accuracy: 1.0000\n",
      "Epoch 36/60\n",
      "1094/1094 [==============================] - 10s 9ms/step - loss: 0.0109 - accuracy: 0.9963 - val_loss: 5.9342e-04 - val_accuracy: 0.9999\n",
      "Epoch 37/60\n",
      "1094/1094 [==============================] - 11s 10ms/step - loss: 0.0120 - accuracy: 0.9960 - val_loss: 4.3056e-04 - val_accuracy: 0.9999\n",
      "Epoch 38/60\n",
      "1094/1094 [==============================] - 11s 10ms/step - loss: 0.0112 - accuracy: 0.9962 - val_loss: 3.0566e-04 - val_accuracy: 1.0000\n",
      "Epoch 39/60\n",
      "1094/1094 [==============================] - 9s 8ms/step - loss: 0.0118 - accuracy: 0.9964 - val_loss: 3.0384e-04 - val_accuracy: 1.0000\n",
      "Epoch 40/60\n",
      "1094/1094 [==============================] - 9s 8ms/step - loss: 0.0108 - accuracy: 0.9965 - val_loss: 3.2417e-04 - val_accuracy: 1.0000\n",
      "Epoch 41/60\n",
      "1094/1094 [==============================] - 11s 10ms/step - loss: 0.0115 - accuracy: 0.9958 - val_loss: 3.9304e-04 - val_accuracy: 1.0000\n",
      "Epoch 42/60\n",
      "1094/1094 [==============================] - 7s 7ms/step - loss: 0.0118 - accuracy: 0.9958 - val_loss: 3.4103e-04 - val_accuracy: 0.9999\n",
      "Epoch 43/60\n",
      "1094/1094 [==============================] - 7s 7ms/step - loss: 0.0112 - accuracy: 0.9962 - val_loss: 2.8777e-04 - val_accuracy: 1.0000\n",
      "Epoch 44/60\n",
      "1094/1094 [==============================] - 8s 8ms/step - loss: 0.0098 - accuracy: 0.9967 - val_loss: 3.3786e-04 - val_accuracy: 1.0000\n",
      "Epoch 45/60\n",
      "1094/1094 [==============================] - 8s 7ms/step - loss: 0.0112 - accuracy: 0.9962 - val_loss: 3.4140e-04 - val_accuracy: 1.0000\n",
      "Epoch 46/60\n",
      "1094/1094 [==============================] - 7s 6ms/step - loss: 0.0106 - accuracy: 0.9966 - val_loss: 3.4028e-04 - val_accuracy: 1.0000\n",
      "Epoch 47/60\n",
      "1094/1094 [==============================] - 7s 6ms/step - loss: 0.0102 - accuracy: 0.9965 - val_loss: 3.1503e-04 - val_accuracy: 1.0000\n",
      "Epoch 48/60\n",
      "1094/1094 [==============================] - 7s 6ms/step - loss: 0.0114 - accuracy: 0.9962 - val_loss: 2.6676e-04 - val_accuracy: 1.0000\n",
      "Epoch 49/60\n",
      "1094/1094 [==============================] - 8s 8ms/step - loss: 0.0107 - accuracy: 0.9964 - val_loss: 2.7749e-04 - val_accuracy: 1.0000\n",
      "Epoch 50/60\n",
      "1094/1094 [==============================] - 12s 11ms/step - loss: 0.0099 - accuracy: 0.9965 - val_loss: 2.6114e-04 - val_accuracy: 1.0000\n",
      "Epoch 51/60\n",
      "1094/1094 [==============================] - 10s 9ms/step - loss: 0.0101 - accuracy: 0.9965 - val_loss: 2.5438e-04 - val_accuracy: 1.0000\n",
      "Epoch 52/60\n",
      "1094/1094 [==============================] - 10s 10ms/step - loss: 0.0097 - accuracy: 0.9968 - val_loss: 1.7512e-04 - val_accuracy: 1.0000\n",
      "Epoch 53/60\n",
      "1094/1094 [==============================] - 8s 7ms/step - loss: 0.0094 - accuracy: 0.9971 - val_loss: 2.1661e-04 - val_accuracy: 1.0000\n",
      "Epoch 54/60\n",
      "1094/1094 [==============================] - 7s 7ms/step - loss: 0.0094 - accuracy: 0.9970 - val_loss: 3.6013e-04 - val_accuracy: 1.0000\n",
      "Epoch 55/60\n",
      "1094/1094 [==============================] - 8s 7ms/step - loss: 0.0101 - accuracy: 0.9968 - val_loss: 3.1959e-04 - val_accuracy: 1.0000\n",
      "Epoch 56/60\n"
     ]
    },
    {
     "name": "stdout",
     "output_type": "stream",
     "text": [
      "1094/1094 [==============================] - 8s 7ms/step - loss: 0.0098 - accuracy: 0.9968 - val_loss: 2.9988e-04 - val_accuracy: 1.0000\n",
      "Epoch 57/60\n",
      "1094/1094 [==============================] - 9s 9ms/step - loss: 0.0092 - accuracy: 0.9968 - val_loss: 2.5012e-04 - val_accuracy: 1.0000\n",
      "Epoch 58/60\n",
      "1094/1094 [==============================] - 7s 6ms/step - loss: 0.0111 - accuracy: 0.9962 - val_loss: 2.0776e-04 - val_accuracy: 1.0000\n",
      "Epoch 59/60\n",
      "1094/1094 [==============================] - 7s 6ms/step - loss: 0.0096 - accuracy: 0.9967 - val_loss: 1.7867e-04 - val_accuracy: 1.0000\n",
      "Epoch 60/60\n",
      "1094/1094 [==============================] - 7s 7ms/step - loss: 0.0096 - accuracy: 0.9967 - val_loss: 2.2692e-04 - val_accuracy: 1.0000\n",
      "Algorithm time is 464 s:\n"
     ]
    }
   ],
   "source": [
    "start = time.time()\n",
    "history = model.fit(new_x_train, new_y_train, epochs=60, batch_size=64, validation_data=(train, y))\n",
    "end = time.time()\n",
    "print(\"Algorithm time is {} s:\".format(round(end-start)))"
   ]
  },
  {
   "cell_type": "code",
   "execution_count": 41,
   "metadata": {},
   "outputs": [],
   "source": [
    "# the above performace is good. Using trained model to predict test data set\n",
    "predictions = model.predict(test)"
   ]
  },
  {
   "cell_type": "code",
   "execution_count": 42,
   "metadata": {},
   "outputs": [],
   "source": [
    "predictions = np.argmax(predictions, axis=1)"
   ]
  },
  {
   "cell_type": "code",
   "execution_count": 44,
   "metadata": {},
   "outputs": [
    {
     "data": {
      "text/plain": [
       "array([2, 0, 9, ..., 3, 9, 2], dtype=int64)"
      ]
     },
     "execution_count": 44,
     "metadata": {},
     "output_type": "execute_result"
    }
   ],
   "source": [
    "predictions"
   ]
  },
  {
   "cell_type": "code",
   "execution_count": 45,
   "metadata": {},
   "outputs": [],
   "source": [
    "# copy the test result into 'sample_submission.csv' in order to submit result to Kaggle\n",
    "submission = pd.read_csv('sample_submission.csv')"
   ]
  },
  {
   "cell_type": "code",
   "execution_count": 47,
   "metadata": {},
   "outputs": [],
   "source": [
    "submission['Label'] = predictions"
   ]
  },
  {
   "cell_type": "code",
   "execution_count": 48,
   "metadata": {},
   "outputs": [],
   "source": [
    "submission.to_csv('submission.csv', index=False)"
   ]
  },
  {
   "cell_type": "code",
   "execution_count": null,
   "metadata": {},
   "outputs": [],
   "source": []
  }
 ],
 "metadata": {
  "kernelspec": {
   "display_name": "Python 3",
   "language": "python",
   "name": "python3"
  },
  "language_info": {
   "codemirror_mode": {
    "name": "ipython",
    "version": 3
   },
   "file_extension": ".py",
   "mimetype": "text/x-python",
   "name": "python",
   "nbconvert_exporter": "python",
   "pygments_lexer": "ipython3",
   "version": "3.8.5"
  }
 },
 "nbformat": 4,
 "nbformat_minor": 4
}
